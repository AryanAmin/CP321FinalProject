{
 "metadata": {
  "language_info": {
   "codemirror_mode": {
    "name": "ipython",
    "version": 3
   },
   "file_extension": ".py",
   "mimetype": "text/x-python",
   "name": "python",
   "nbconvert_exporter": "python",
   "pygments_lexer": "ipython3",
   "version": 3
  },
  "orig_nbformat": 2
 },
 "nbformat": 4,
 "nbformat_minor": 2,
 "cells": [
  {
   "source": [
    "CP 321 Final Project\n",
    "\n",
    "By: Aryan Amin (193265300) and Nicolas Lozano (150701040)\n",
    "\n",
    "This is our project for the CP 321 final assignment. We are working on the dataset that is providing the information about the key infrastructure projects that is either completed or that are currenlty in progress in the state of Ontario. The dataset is taken from the website of government of Canada. The website link is https://search.open.canada.ca/en/od/?sort=score%20desc&page=1&search_text=key%20infrastructure&od-search-format=CSV. We followed the ASSERT model that we learned in our course to complete this project.\n",
    "\n",
    "The question we are trying to answer is "
   ],
   "cell_type": "markdown",
   "metadata": {}
  }
 ]
}